{
 "cells": [
  {
   "cell_type": "code",
   "execution_count": 1,
   "id": "78301d07",
   "metadata": {},
   "outputs": [],
   "source": [
    "from instance_io import *"
   ]
  },
  {
   "cell_type": "code",
   "execution_count": 3,
   "id": "bc56c813",
   "metadata": {},
   "outputs": [
    {
     "data": {
      "text/plain": [
       "(5,\n",
       " [[1, 2], [2, 3, 4], [1, 4], [3, 5], [4, 5]],\n",
       " [[3.0, 1.0, -2.0, 0.0, 3.0],\n",
       "  [0.0, -1.0, 2.0, 1.0, -1.0],\n",
       "  [0.0, 0.0, 2.0, -2.0, 4.0],\n",
       "  [0.0, 0.0, 0.0, 0.0, 5.0],\n",
       "  [0.0, 0.0, 0.0, 0.0, 3.0]])"
      ]
     },
     "execution_count": 3,
     "metadata": {},
     "output_type": "execute_result"
    }
   ],
   "source": [
    "read_max_sc_qbf_instance(\"data/sample_instances/1.txt\")"
   ]
  }
 ],
 "metadata": {
  "kernelspec": {
   "display_name": "Python 3",
   "language": "python",
   "name": "python3"
  },
  "language_info": {
   "codemirror_mode": {
    "name": "ipython",
    "version": 3
   },
   "file_extension": ".py",
   "mimetype": "text/x-python",
   "name": "python",
   "nbconvert_exporter": "python",
   "pygments_lexer": "ipython3",
   "version": "3.10.12"
  }
 },
 "nbformat": 4,
 "nbformat_minor": 5
}
