{
 "cells": [
  {
   "cell_type": "code",
   "execution_count": 1,
   "id": "727afa08",
   "metadata": {},
   "outputs": [],
   "source": [
    "import pyomo"
   ]
  },
  {
   "cell_type": "markdown",
   "id": "f6bc995a",
   "metadata": {},
   "source": [
    "# instance_io tests"
   ]
  },
  {
   "cell_type": "code",
   "execution_count": 2,
   "id": "78301d07",
   "metadata": {},
   "outputs": [],
   "source": [
    "from instance_io import *"
   ]
  },
  {
   "cell_type": "code",
   "execution_count": 3,
   "id": "bc56c813",
   "metadata": {},
   "outputs": [
    {
     "data": {
      "text/plain": [
       "(5,\n",
       " [{1, 2}, {2, 3, 4}, {1, 4}, {3, 5}, {4, 5}],\n",
       " [[3.0, 1.0, -2.0, 0.0, 3.0],\n",
       "  [0.0, -1.0, 2.0, 1.0, -1.0],\n",
       "  [0.0, 0.0, 2.0, -2.0, 4.0],\n",
       "  [0.0, 0.0, 0.0, 0.0, 5.0],\n",
       "  [0.0, 0.0, 0.0, 0.0, 3.0]])"
      ]
     },
     "execution_count": 3,
     "metadata": {},
     "output_type": "execute_result"
    }
   ],
   "source": [
    "read_max_sc_qbf_instance(\"data/sample_instances/1.txt\")"
   ]
  },
  {
   "cell_type": "markdown",
   "id": "3c1c998e",
   "metadata": {},
   "source": [
    "# gurobi + pyomo test"
   ]
  },
  {
   "cell_type": "code",
   "execution_count": 4,
   "id": "22df9d40",
   "metadata": {},
   "outputs": [
    {
     "name": "stdout",
     "output_type": "stream",
     "text": [
      "✓ Gurobi solver is available\n",
      "✓ Gurobi solved the test problem successfully\n",
      "  Optimal value: 15.0\n",
      "  x = 7.5\n",
      "  y = 0.0\n",
      "\n",
      "✓ Pyomo is properly installed and working\n"
     ]
    }
   ],
   "source": [
    "from pyomo.opt import SolverFactory\n",
    "\n",
    "import pyomo.environ as pyo\n",
    "\n",
    "# Create a simple test model\n",
    "test_model = pyo.ConcreteModel()\n",
    "\n",
    "# Add variables\n",
    "test_model.x = pyo.Var(bounds=(0, None))\n",
    "test_model.y = pyo.Var(bounds=(0, None))\n",
    "\n",
    "# Add objective\n",
    "test_model.obj = pyo.Objective(expr=2*test_model.x + test_model.y, sense=pyo.maximize)\n",
    "\n",
    "# Add constraints\n",
    "test_model.constraint1 = pyo.Constraint(expr=test_model.x + test_model.y <= 10)\n",
    "test_model.constraint2 = pyo.Constraint(expr=2*test_model.x + test_model.y <= 15)\n",
    "\n",
    "# Test Gurobi solver\n",
    "try:\n",
    "    gurobi_solver = SolverFactory('gurobi')\n",
    "    if gurobi_solver.available():\n",
    "        print(\"✓ Gurobi solver is available\")\n",
    "        \n",
    "        # Solve the test problem\n",
    "        result = gurobi_solver.solve(test_model, tee=False)\n",
    "        \n",
    "        if result.solver.termination_condition == pyo.TerminationCondition.optimal:\n",
    "            print(\"✓ Gurobi solved the test problem successfully\")\n",
    "            print(f\"  Optimal value: {pyo.value(test_model.obj)}\")\n",
    "            print(f\"  x = {pyo.value(test_model.x)}\")\n",
    "            print(f\"  y = {pyo.value(test_model.y)}\")\n",
    "        else:\n",
    "            print(\"✗ Gurobi failed to solve the test problem\")\n",
    "    else:\n",
    "        print(\"✗ Gurobi solver is not available\")\n",
    "        \n",
    "except Exception as e:\n",
    "    print(f\"✗ Error testing Gurobi: {e}\")\n",
    "\n",
    "print(\"\\n✓ Pyomo is properly installed and working\")"
   ]
  },
  {
   "cell_type": "markdown",
   "id": "8926068a",
   "metadata": {},
   "source": [
    "# Solving instances"
   ]
  },
  {
   "cell_type": "code",
   "execution_count": 29,
   "id": "1d6ee0fc",
   "metadata": {},
   "outputs": [
    {
     "data": {
      "text/plain": [
       "4"
      ]
     },
     "metadata": {},
     "output_type": "display_data"
    },
    {
     "data": {
      "text/plain": [
       "[{1}, {2, 3}, {1, 4}, {3, 4}]"
      ]
     },
     "metadata": {},
     "output_type": "display_data"
    },
    {
     "data": {
      "text/plain": [
       "[[0.0, -2.0, 1.0, 0.0],\n",
       " [0.0, 4.0, 2.0, 3.0],\n",
       " [0.0, 0.0, 5.0, -1.0],\n",
       " [0.0, 0.0, 0.0, 2.0]]"
      ]
     },
     "metadata": {},
     "output_type": "display_data"
    },
    {
     "name": "stdout",
     "output_type": "stream",
     "text": [
      "Universe: {1, 2, 3, 4}\n"
     ]
    }
   ],
   "source": [
    "n, sets, A = read_max_sc_qbf_instance(\"data/sample_instances/3.txt\")\n",
    "display(n, sets, A)\n",
    "\n",
    "universe = set.union(*sets)\n",
    "print(f\"Universe: {universe}\")"
   ]
  },
  {
   "cell_type": "code",
   "execution_count": 30,
   "id": "fd3bf54a",
   "metadata": {},
   "outputs": [],
   "source": [
    "from pyomo.environ import ConcreteModel, Var, RangeSet\n",
    "\n",
    "model = pyo.ConcreteModel()\n",
    "\n",
    "# Vars:\n",
    "model.I = RangeSet(n)\n",
    "model.x = Var (model.I, domain=pyo.Binary)\n",
    "\n",
    "# Objective:\n",
    "def objective_rule(model):\n",
    "    return sum(model.x[i] * A[i-1][j-1] * model.x[j] for i in model.I for j in model.I)\n",
    "\n",
    "model.obj = pyo.Objective(rule=objective_rule, sense=pyo.maximize)\n",
    "\n",
    "# Constraints:\n",
    "model.set_cover_contraints = pyo.ConstraintList()\n",
    "for element in universe:\n",
    "    # Get all indexes from the sets that contain element:\n",
    "    containing_sets_idx: List[int] = []\n",
    "    for i, set in enumerate(sets):\n",
    "        if element in set:\n",
    "            containing_sets_idx.append(i)\n",
    "    \n",
    "    # print(f\"Element: {element}, csi: {containing_sets_idx}\")\n",
    "    \n",
    "    model.set_cover_contraints.add(expr=sum(model.x[i+1] for i in containing_sets_idx) >= 1)"
   ]
  },
  {
   "cell_type": "code",
   "execution_count": 31,
   "id": "fb2b242d",
   "metadata": {},
   "outputs": [
    {
     "data": {
      "text/plain": [
       "{'Problem': [{'Name': 'x1', 'Lower bound': 15.0, 'Upper bound': 15.0, 'Number of objectives': 1, 'Number of constraints': 4, 'Number of variables': 4, 'Number of binary variables': 4, 'Number of integer variables': 4, 'Number of continuous variables': 0, 'Number of nonzeros': 7, 'Sense': 'maximize'}], 'Solver': [{'Status': 'ok', 'Return code': '0', 'Message': 'Model was solved to optimality (subject to tolerances), and an optimal solution is available.', 'Termination condition': 'optimal', 'Termination message': 'Model was solved to optimality (subject to tolerances), and an optimal solution is available.', 'Wall time': '0.0008060932159423828', 'Error rc': 0, 'Time': 0.08958649635314941}], 'Solution': [OrderedDict([('number of solutions', 0), ('number of solutions displayed', 0)])]}"
      ]
     },
     "execution_count": 31,
     "metadata": {},
     "output_type": "execute_result"
    }
   ],
   "source": [
    "opt = SolverFactory('gurobi')\n",
    "opt.solve(model)"
   ]
  },
  {
   "cell_type": "code",
   "execution_count": 32,
   "id": "43adff47",
   "metadata": {},
   "outputs": [
    {
     "name": "stdout",
     "output_type": "stream",
     "text": [
      "Solution values:\n",
      "x[1] = 0.0\n",
      "x[2] = 1.0\n",
      "x[3] = 1.0\n",
      "x[4] = 1.0\n",
      "Objective function value: 15.0\n"
     ]
    }
   ],
   "source": [
    "print(\"Solution values:\")\n",
    "for i in model.I:\n",
    "    print(f\"x[{i}] = {pyo.value(model.x[i])}\")\n",
    "print(f\"Objective function value: {pyo.value(model.obj)}\")"
   ]
  }
 ],
 "metadata": {
  "kernelspec": {
   "display_name": "Python 3",
   "language": "python",
   "name": "python3"
  },
  "language_info": {
   "codemirror_mode": {
    "name": "ipython",
    "version": 3
   },
   "file_extension": ".py",
   "mimetype": "text/x-python",
   "name": "python",
   "nbconvert_exporter": "python",
   "pygments_lexer": "ipython3",
   "version": "3.10.12"
  }
 },
 "nbformat": 4,
 "nbformat_minor": 5
}
