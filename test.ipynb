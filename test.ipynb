{
 "cells": [
  {
   "cell_type": "markdown",
   "id": "f6bc995a",
   "metadata": {},
   "source": [
    "# instance_io tests"
   ]
  },
  {
   "cell_type": "code",
   "execution_count": 1,
   "id": "78301d07",
   "metadata": {},
   "outputs": [],
   "source": [
    "from instance_io import *"
   ]
  },
  {
   "cell_type": "code",
   "execution_count": 3,
   "id": "bc56c813",
   "metadata": {},
   "outputs": [
    {
     "data": {
      "text/plain": [
       "(5,\n",
       " [[1, 2], [2, 3, 4], [1, 4], [3, 5], [4, 5]],\n",
       " [[3.0, 1.0, -2.0, 0.0, 3.0],\n",
       "  [0.0, -1.0, 2.0, 1.0, -1.0],\n",
       "  [0.0, 0.0, 2.0, -2.0, 4.0],\n",
       "  [0.0, 0.0, 0.0, 0.0, 5.0],\n",
       "  [0.0, 0.0, 0.0, 0.0, 3.0]])"
      ]
     },
     "execution_count": 3,
     "metadata": {},
     "output_type": "execute_result"
    }
   ],
   "source": [
    "read_max_sc_qbf_instance(\"data/sample_instances/1.txt\")"
   ]
  },
  {
   "cell_type": "markdown",
   "id": "3c1c998e",
   "metadata": {},
   "source": [
    "# gurobi + pyomo test"
   ]
  },
  {
   "cell_type": "code",
   "execution_count": 5,
   "id": "22df9d40",
   "metadata": {},
   "outputs": [
    {
     "name": "stdout",
     "output_type": "stream",
     "text": [
      "✓ Gurobi solver is available\n",
      "✓ Gurobi solved the test problem successfully\n",
      "  Optimal value: 15.0\n",
      "  x = 7.5\n",
      "  y = 0.0\n",
      "\n",
      "✓ Pyomo is properly installed and working\n"
     ]
    }
   ],
   "source": [
    "from pyomo.opt import SolverFactory\n",
    "\n",
    "import pyomo.environ as pyo\n",
    "\n",
    "# Create a simple test model\n",
    "test_model = pyo.ConcreteModel()\n",
    "\n",
    "# Add variables\n",
    "test_model.x = pyo.Var(bounds=(0, None))\n",
    "test_model.y = pyo.Var(bounds=(0, None))\n",
    "\n",
    "# Add objective\n",
    "test_model.obj = pyo.Objective(expr=2*test_model.x + test_model.y, sense=pyo.maximize)\n",
    "\n",
    "# Add constraints\n",
    "test_model.constraint1 = pyo.Constraint(expr=test_model.x + test_model.y <= 10)\n",
    "test_model.constraint2 = pyo.Constraint(expr=2*test_model.x + test_model.y <= 15)\n",
    "\n",
    "# Test Gurobi solver\n",
    "try:\n",
    "    gurobi_solver = SolverFactory('gurobi')\n",
    "    if gurobi_solver.available():\n",
    "        print(\"✓ Gurobi solver is available\")\n",
    "        \n",
    "        # Solve the test problem\n",
    "        result = gurobi_solver.solve(test_model, tee=False)\n",
    "        \n",
    "        if result.solver.termination_condition == pyo.TerminationCondition.optimal:\n",
    "            print(\"✓ Gurobi solved the test problem successfully\")\n",
    "            print(f\"  Optimal value: {pyo.value(test_model.obj)}\")\n",
    "            print(f\"  x = {pyo.value(test_model.x)}\")\n",
    "            print(f\"  y = {pyo.value(test_model.y)}\")\n",
    "        else:\n",
    "            print(\"✗ Gurobi failed to solve the test problem\")\n",
    "    else:\n",
    "        print(\"✗ Gurobi solver is not available\")\n",
    "        \n",
    "except Exception as e:\n",
    "    print(f\"✗ Error testing Gurobi: {e}\")\n",
    "\n",
    "print(\"\\n✓ Pyomo is properly installed and working\")"
   ]
  }
 ],
 "metadata": {
  "kernelspec": {
   "display_name": "Python 3",
   "language": "python",
   "name": "python3"
  },
  "language_info": {
   "codemirror_mode": {
    "name": "ipython",
    "version": 3
   },
   "file_extension": ".py",
   "mimetype": "text/x-python",
   "name": "python",
   "nbconvert_exporter": "python",
   "pygments_lexer": "ipython3",
   "version": "3.10.12"
  }
 },
 "nbformat": 4,
 "nbformat_minor": 5
}
